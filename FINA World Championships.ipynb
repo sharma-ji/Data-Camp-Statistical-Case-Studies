{
 "cells": [
  {
   "cell_type": "markdown",
   "metadata": {},
   "source": [
    "# 2015 FINA World Championships"
   ]
  },
  {
   "cell_type": "markdown",
   "metadata": {},
   "source": [
    "**Background for Swimming and the competition**\n",
    "- There are 10 lanes in the pool with 0 indexing i.e. 0-9.\n",
    "- Only 1-8 lanes are used for the competition purpose.\n",
    "- The pool is 50m longs\n",
    "- There are 4 strokes of competition \n",
    "    1. Freestyle\n",
    "    2. Breaststroke\n",
    "    3. Butterfly\n",
    "    4. Backstroke\n",
    "- There are different rounds\n",
    "    1. For longer events we have Heats: Firt round, Finals: The final round\n",
    "    2. For shorter events we have Heats: First round, Semifinals: Penultimate round, Finals: The final round\n",
    "- The data is openly available at omegatiming.com\n"
   ]
  },
  {
   "cell_type": "code",
   "execution_count": 136,
   "metadata": {},
   "outputs": [],
   "source": [
    "# importing the libraries\n",
    "import numpy as np\n",
    "import pandas as pd \n",
    "import matplotlib.pyplot as plt \n",
    "import dc_stat_think as dcst\n",
    "from IPython.display import Image\n",
    "%matplotlib inline "
   ]
  },
  {
   "cell_type": "markdown",
   "metadata": {},
   "source": [
    "**Getting the data**"
   ]
  },
  {
   "cell_type": "code",
   "execution_count": 117,
   "metadata": {},
   "outputs": [],
   "source": [
    "fina_2015 = pd.read_csv('datasets/2015_FINA.csv',comment='#')\n",
    "fina_2013 = pd.read_csv('datasets/2015_FINA.csv',comment='#')\n",
    "df = pd.read_csv('datasets/df.csv')"
   ]
  },
  {
   "cell_type": "code",
   "execution_count": 4,
   "metadata": {},
   "outputs": [
    {
     "data": {
      "text/html": [
       "<div>\n",
       "<style scoped>\n",
       "    .dataframe tbody tr th:only-of-type {\n",
       "        vertical-align: middle;\n",
       "    }\n",
       "\n",
       "    .dataframe tbody tr th {\n",
       "        vertical-align: top;\n",
       "    }\n",
       "\n",
       "    .dataframe thead th {\n",
       "        text-align: right;\n",
       "    }\n",
       "</style>\n",
       "<table border=\"1\" class=\"dataframe\">\n",
       "  <thead>\n",
       "    <tr style=\"text-align: right;\">\n",
       "      <th></th>\n",
       "      <th>athleteid</th>\n",
       "      <th>lastname</th>\n",
       "      <th>firstname</th>\n",
       "      <th>birthdate</th>\n",
       "      <th>gender</th>\n",
       "      <th>name</th>\n",
       "      <th>code</th>\n",
       "      <th>eventid</th>\n",
       "      <th>heat</th>\n",
       "      <th>lane</th>\n",
       "      <th>...</th>\n",
       "      <th>swimtime</th>\n",
       "      <th>split</th>\n",
       "      <th>cumswimtime</th>\n",
       "      <th>splitdistance</th>\n",
       "      <th>daytime</th>\n",
       "      <th>round</th>\n",
       "      <th>distance</th>\n",
       "      <th>relaycount</th>\n",
       "      <th>stroke</th>\n",
       "      <th>splitswimtime</th>\n",
       "    </tr>\n",
       "  </thead>\n",
       "  <tbody>\n",
       "    <tr>\n",
       "      <th>0</th>\n",
       "      <td>100784</td>\n",
       "      <td>BORSHI</td>\n",
       "      <td>NOEL</td>\n",
       "      <td>1996-02-13</td>\n",
       "      <td>F</td>\n",
       "      <td>Albania</td>\n",
       "      <td>ALB</td>\n",
       "      <td>1</td>\n",
       "      <td>1</td>\n",
       "      <td>4</td>\n",
       "      <td>...</td>\n",
       "      <td>63.65</td>\n",
       "      <td>1</td>\n",
       "      <td>29.63</td>\n",
       "      <td>50</td>\n",
       "      <td>930.0</td>\n",
       "      <td>PRE</td>\n",
       "      <td>100</td>\n",
       "      <td>1</td>\n",
       "      <td>FLY</td>\n",
       "      <td>29.63</td>\n",
       "    </tr>\n",
       "    <tr>\n",
       "      <th>1</th>\n",
       "      <td>100784</td>\n",
       "      <td>BORSHI</td>\n",
       "      <td>NOEL</td>\n",
       "      <td>1996-02-13</td>\n",
       "      <td>F</td>\n",
       "      <td>Albania</td>\n",
       "      <td>ALB</td>\n",
       "      <td>1</td>\n",
       "      <td>1</td>\n",
       "      <td>4</td>\n",
       "      <td>...</td>\n",
       "      <td>63.65</td>\n",
       "      <td>2</td>\n",
       "      <td>63.65</td>\n",
       "      <td>100</td>\n",
       "      <td>930.0</td>\n",
       "      <td>PRE</td>\n",
       "      <td>100</td>\n",
       "      <td>1</td>\n",
       "      <td>FLY</td>\n",
       "      <td>34.02</td>\n",
       "    </tr>\n",
       "    <tr>\n",
       "      <th>2</th>\n",
       "      <td>100784</td>\n",
       "      <td>BORSHI</td>\n",
       "      <td>NOEL</td>\n",
       "      <td>1996-02-13</td>\n",
       "      <td>F</td>\n",
       "      <td>Albania</td>\n",
       "      <td>ALB</td>\n",
       "      <td>20</td>\n",
       "      <td>1</td>\n",
       "      <td>8</td>\n",
       "      <td>...</td>\n",
       "      <td>140.28</td>\n",
       "      <td>1</td>\n",
       "      <td>31.33</td>\n",
       "      <td>50</td>\n",
       "      <td>1014.0</td>\n",
       "      <td>PRE</td>\n",
       "      <td>200</td>\n",
       "      <td>1</td>\n",
       "      <td>FLY</td>\n",
       "      <td>31.33</td>\n",
       "    </tr>\n",
       "    <tr>\n",
       "      <th>3</th>\n",
       "      <td>100784</td>\n",
       "      <td>BORSHI</td>\n",
       "      <td>NOEL</td>\n",
       "      <td>1996-02-13</td>\n",
       "      <td>F</td>\n",
       "      <td>Albania</td>\n",
       "      <td>ALB</td>\n",
       "      <td>20</td>\n",
       "      <td>1</td>\n",
       "      <td>8</td>\n",
       "      <td>...</td>\n",
       "      <td>140.28</td>\n",
       "      <td>2</td>\n",
       "      <td>66.81</td>\n",
       "      <td>100</td>\n",
       "      <td>1014.0</td>\n",
       "      <td>PRE</td>\n",
       "      <td>200</td>\n",
       "      <td>1</td>\n",
       "      <td>FLY</td>\n",
       "      <td>35.48</td>\n",
       "    </tr>\n",
       "    <tr>\n",
       "      <th>4</th>\n",
       "      <td>100784</td>\n",
       "      <td>BORSHI</td>\n",
       "      <td>NOEL</td>\n",
       "      <td>1996-02-13</td>\n",
       "      <td>F</td>\n",
       "      <td>Albania</td>\n",
       "      <td>ALB</td>\n",
       "      <td>20</td>\n",
       "      <td>1</td>\n",
       "      <td>8</td>\n",
       "      <td>...</td>\n",
       "      <td>140.28</td>\n",
       "      <td>3</td>\n",
       "      <td>103.29</td>\n",
       "      <td>150</td>\n",
       "      <td>1014.0</td>\n",
       "      <td>PRE</td>\n",
       "      <td>200</td>\n",
       "      <td>1</td>\n",
       "      <td>FLY</td>\n",
       "      <td>36.48</td>\n",
       "    </tr>\n",
       "  </tbody>\n",
       "</table>\n",
       "<p>5 rows × 22 columns</p>\n",
       "</div>"
      ],
      "text/plain": [
       "   athleteid lastname firstname   birthdate gender     name code  eventid  \\\n",
       "0     100784   BORSHI      NOEL  1996-02-13      F  Albania  ALB        1   \n",
       "1     100784   BORSHI      NOEL  1996-02-13      F  Albania  ALB        1   \n",
       "2     100784   BORSHI      NOEL  1996-02-13      F  Albania  ALB       20   \n",
       "3     100784   BORSHI      NOEL  1996-02-13      F  Albania  ALB       20   \n",
       "4     100784   BORSHI      NOEL  1996-02-13      F  Albania  ALB       20   \n",
       "\n",
       "   heat  lane      ...        swimtime  split  cumswimtime  splitdistance  \\\n",
       "0     1     4      ...           63.65      1        29.63             50   \n",
       "1     1     4      ...           63.65      2        63.65            100   \n",
       "2     1     8      ...          140.28      1        31.33             50   \n",
       "3     1     8      ...          140.28      2        66.81            100   \n",
       "4     1     8      ...          140.28      3       103.29            150   \n",
       "\n",
       "   daytime  round  distance relaycount  stroke  splitswimtime  \n",
       "0    930.0    PRE       100          1     FLY          29.63  \n",
       "1    930.0    PRE       100          1     FLY          34.02  \n",
       "2   1014.0    PRE       200          1     FLY          31.33  \n",
       "3   1014.0    PRE       200          1     FLY          35.48  \n",
       "4   1014.0    PRE       200          1     FLY          36.48  \n",
       "\n",
       "[5 rows x 22 columns]"
      ]
     },
     "execution_count": 4,
     "metadata": {},
     "output_type": "execute_result"
    }
   ],
   "source": [
    "fina_2015.head()"
   ]
  },
  {
   "cell_type": "code",
   "execution_count": 5,
   "metadata": {},
   "outputs": [
    {
     "data": {
      "text/plain": [
       "Index(['athleteid', 'lastname', 'firstname', 'birthdate', 'gender', 'name',\n",
       "       'code', 'eventid', 'heat', 'lane', 'points', 'reactiontime', 'swimtime',\n",
       "       'split', 'cumswimtime', 'splitdistance', 'daytime', 'round', 'distance',\n",
       "       'relaycount', 'stroke', 'splitswimtime'],\n",
       "      dtype='object')"
      ]
     },
     "execution_count": 5,
     "metadata": {},
     "output_type": "execute_result"
    }
   ],
   "source": [
    "fina_2015.columns"
   ]
  },
  {
   "cell_type": "code",
   "execution_count": 16,
   "metadata": {},
   "outputs": [
    {
     "data": {
      "text/plain": [
       "M    6187\n",
       "F    5236\n",
       "Name: gender, dtype: int64"
      ]
     },
     "execution_count": 16,
     "metadata": {},
     "output_type": "execute_result"
    }
   ],
   "source": [
    "fina_2015.gender.value_counts()"
   ]
  },
  {
   "cell_type": "code",
   "execution_count": 6,
   "metadata": {},
   "outputs": [
    {
     "data": {
      "text/plain": [
       "FREE      6782\n",
       "MEDLEY    1288\n",
       "BREAST    1205\n",
       "FLY       1095\n",
       "BACK      1053\n",
       "Name: stroke, dtype: int64"
      ]
     },
     "execution_count": 6,
     "metadata": {},
     "output_type": "execute_result"
    }
   ],
   "source": [
    "fina_2015.stroke.value_counts()"
   ]
  },
  {
   "cell_type": "code",
   "execution_count": 7,
   "metadata": {},
   "outputs": [
    {
     "data": {
      "text/plain": [
       "200     2944\n",
       "1500    2554\n",
       "400     1805\n",
       "100     1659\n",
       "800     1601\n",
       "50       860\n",
       "Name: distance, dtype: int64"
      ]
     },
     "execution_count": 7,
     "metadata": {},
     "output_type": "execute_result"
    }
   ],
   "source": [
    "fina_2015.distance.value_counts()"
   ]
  },
  {
   "cell_type": "code",
   "execution_count": 19,
   "metadata": {},
   "outputs": [
    {
     "data": {
      "text/plain": [
       "1     3181\n",
       "2     2297\n",
       "3     1838\n",
       "4     1561\n",
       "5     1317\n",
       "6      439\n",
       "7      386\n",
       "8      167\n",
       "9      100\n",
       "10      58\n",
       "11      40\n",
       "12      39\n",
       "Name: heat, dtype: int64"
      ]
     },
     "execution_count": 19,
     "metadata": {},
     "output_type": "execute_result"
    }
   ],
   "source": [
    "fina_2015.heat.value_counts()"
   ]
  },
  {
   "cell_type": "code",
   "execution_count": 15,
   "metadata": {},
   "outputs": [
    {
     "data": {
      "text/plain": [
       "PRE    8904\n",
       "FIN    1475\n",
       "SEM    1022\n",
       "SOS      18\n",
       "SOP       4\n",
       "Name: round, dtype: int64"
      ]
     },
     "execution_count": 15,
     "metadata": {},
     "output_type": "execute_result"
    }
   ],
   "source": [
    "fina_2015['round'].value_counts()"
   ]
  },
  {
   "cell_type": "code",
   "execution_count": 25,
   "metadata": {},
   "outputs": [],
   "source": [
    "mens_200_free_heats = fina_2015[(fina_2015.gender=='M')&(fina_2015.distance==200)&(fina_2015.stroke=='FREE')&(fina_2015['round']=='PRE')&(fina_2015.splitdistance==200)]['swimtime'].values"
   ]
  },
  {
   "cell_type": "markdown",
   "metadata": {},
   "source": [
    "**Graphical EDA of men's 200 free heats**\n",
    "In the heats, all contestants swim, the very fast and the very slow. To explore how the swim times are distributed, plot an ECDF of the men's 200 freestyle."
   ]
  },
  {
   "cell_type": "code",
   "execution_count": 31,
   "metadata": {},
   "outputs": [
    {
     "data": {
      "image/png": "[encoded data removed]",
      "text/plain": [
       "<Figure size 432x288 with 1 Axes>"
      ]
     },
     "metadata": {},
     "output_type": "display_data"
    }
   ],
   "source": [
    "# Generate x and y values for ECDF: x, y\n",
    "x, y = dcst.ecdf(mens_200_free_heats)\n",
    "\n",
    "# Plot the ECDF as dots\n",
    "_ = plt.plot(x,y,marker='.',linestyle='none')\n",
    "\n",
    "# Label axes and show plot\n",
    "_ = plt.xlabel('time (s)')\n",
    "_ = plt.ylabel('ECDF')\n",
    "plt.show()"
   ]
  },
  {
   "cell_type": "markdown",
   "metadata": {},
   "source": [
    "We see that fast swimmers are below 115 seconds, with a smattering of slow swimmers past that, including one very slow swimmer."
   ]
  },
  {
   "cell_type": "markdown",
   "metadata": {},
   "source": [
    "**200 m free time with confidence interval**\n",
    "\n",
    "Now, we will practice parameter estimation and computation of confidence intervals by computing the mean and median swim time for the men's 200 freestyle heats. The median is useful because it is immune to heavy tails in the distribution of swim times, such as the slow swimmers in the heats."
   ]
  },
  {
   "cell_type": "code",
   "execution_count": 32,
   "metadata": {},
   "outputs": [
    {
     "name": "stdout",
     "output_type": "stream",
     "text": [
      "\n",
      "mean time: 111.63 sec.\n",
      "95% conf int of mean: [110.50, 112.89] sec.\n",
      "\n",
      "median time: 110.04 sec.\n",
      "95% conf int of median: [108.96, 111.29] sec.\n",
      "\n"
     ]
    }
   ],
   "source": [
    "# Compute mean and median swim times\n",
    "mean_time = np.mean(mens_200_free_heats)\n",
    "median_time = np.median(mens_200_free_heats)\n",
    "\n",
    "# Draw 10,000 bootstrap replicates of the mean and median\n",
    "bs_reps_mean = dcst.draw_bs_reps(mens_200_free_heats,np.mean,size=10000)\n",
    "bs_reps_median = dcst.draw_bs_reps(mens_200_free_heats,np.median,size=10000)\n",
    "\n",
    "\n",
    "# Compute the 95% confidence intervals\n",
    "conf_int_mean = np.percentile(bs_reps_mean,[2.5,97.5])\n",
    "conf_int_median = np.percentile(bs_reps_median,[2.5,97.5])\n",
    "# Print the result to the screen\n",
    "print(\"\"\"\n",
    "mean time: {0:.2f} sec.\n",
    "95% conf int of mean: [{1:.2f}, {2:.2f}] sec.\n",
    "\n",
    "median time: {3:.2f} sec.\n",
    "95% conf int of median: [{4:.2f}, {5:.2f}] sec.\n",
    "\"\"\".format(mean_time, *conf_int_mean, median_time, *conf_int_median))"
   ]
  },
  {
   "cell_type": "markdown",
   "metadata": {},
   "source": [
    " Indeed, the mean swim time is longer than the median because of the effect of the very slow swimmers."
   ]
  },
  {
   "cell_type": "markdown",
   "metadata": {},
   "source": [
    "**Question: Do individual female swimmers swim faster in finals than in semifinals?**\n",
    "Events : 50, 100, 200 meter freestyle, breststroke, butterfly, backstroke\n",
    "\n",
    "Metric for calculation: \n",
    "Fractional improvement = (semifinal time - final time)/semifinal time\n",
    "\n",
    "Improved Questions*\n",
    "\n",
    "**1.Question: What is the fractional improvement of individual female swimmers from the semifinals to finals?**\n",
    "\n",
    "**2.Question: Is observed fractionl improvement commensurate with there being no difference in performance in the semifinals and finals**\n"
   ]
  },
  {
   "cell_type": "markdown",
   "metadata": {},
   "source": [
    "EDA: finals versus semifinals"
   ]
  },
  {
   "cell_type": "code",
   "execution_count": 118,
   "metadata": {},
   "outputs": [],
   "source": [
    "semi_times = df.semi_swimtime.values\n",
    "final_times = df.final_swimtime.values"
   ]
  },
  {
   "cell_type": "code",
   "execution_count": 119,
   "metadata": {},
   "outputs": [
    {
     "data": {
      "image/png": "[encoded data removed]",
      "text/plain": [
       "<Figure size 432x288 with 1 Axes>"
      ]
     },
     "metadata": {},
     "output_type": "display_data"
    }
   ],
   "source": [
    "# Compute fractional difference in time between finals and semis\n",
    "f = (semi_times - final_times) / semi_times\n",
    "\n",
    "# Generate x and y values for the ECDF: x, y\n",
    "x,y = dcst.ecdf(f)\n",
    "\n",
    "# Make a plot of the ECDF\n",
    "_ = plt.plot(x,y,marker='.',linestyle='none')\n",
    "\n",
    "# Label axes and show plot\n",
    "_ = plt.xlabel('f')\n",
    "_ = plt.ylabel('ECDF')\n",
    "plt.show()\n"
   ]
  },
  {
   "cell_type": "markdown",
   "metadata": {},
   "source": [
    "The median of the ECDF is juuuust above zero. But at first glance, it does not look like there is much of any difference between semifinals and finals"
   ]
  },
  {
   "cell_type": "markdown",
   "metadata": {},
   "source": [
    "**Parameter estimates of difference between finals and semifinals**"
   ]
  },
  {
   "cell_type": "code",
   "execution_count": 120,
   "metadata": {},
   "outputs": [
    {
     "name": "stdout",
     "output_type": "stream",
     "text": [
      "\n",
      "mean frac. diff.: 0.00040\n",
      "95% conf int of mean frac. diff.: [-0.00092, 0.00174]\n"
     ]
    }
   ],
   "source": [
    "# Mean fractional time difference: f_mean\n",
    "f_mean = np.mean(f)\n",
    "\n",
    "# Get bootstrap reps of mean: bs_reps\n",
    "bs_reps = dcst.draw_bs_reps(f,np.mean,size=10000)\n",
    "\n",
    "# Compute confidence intervals: conf_int\n",
    "conf_int = np.percentile(bs_reps,[2.5,97.5])\n",
    "\n",
    "# Report\n",
    "print(\"\"\"\n",
    "mean frac. diff.: {0:.5f}\n",
    "95% conf int of mean frac. diff.: [{1:.5f}, {2:.5f}]\"\"\".format(f_mean, *conf_int))\n"
   ]
  },
  {
   "cell_type": "markdown",
   "metadata": {},
   "source": [
    "It looks like the mean finals time is juuuust faster than the mean semifinal time, and they very well may be the same."
   ]
  },
  {
   "cell_type": "markdown",
   "metadata": {},
   "source": [
    "**Permutation Test**\n",
    "1. Take an array of semifinal times and an array of final times for each swimmer for each stroke/distance pair.\n",
    "2. Go through each array, and for each index, swap the entry in the respective final and semifinal array with a 50% probability.\n",
    "3. Use the resulting final and semifinal arrays to compute f and then the mean of f."
   ]
  },
  {
   "cell_type": "markdown",
   "metadata": {},
   "source": [
    "**Plotting the Data**\n",
    "You can see that there is wide variability in the splits among the swimmers, and what appears to be a slight trend toward slower split times."
   ]
  },
  {
   "cell_type": "code",
   "execution_count": 121,
   "metadata": {},
   "outputs": [
    {
     "name": "stdout",
     "output_type": "stream",
     "text": [
      "p = 0.287\n"
     ]
    }
   ],
   "source": [
    "def swap_random(a, b):\n",
    "    \"\"\"Randomly swap entries in two arrays.\"\"\"\n",
    "    # Indices to swap\n",
    "    swap_inds = np.random.random(size=len(a)) < 0.5\n",
    "    \n",
    "    # Make copies of arrays a and b for output\n",
    "    a_out = np.copy(a)\n",
    "    b_out = np.copy(b)\n",
    "    \n",
    "    # Swap values\n",
    "    a_out[swap_inds] = b[swap_inds]\n",
    "    b_out[swap_inds] = a[swap_inds]\n",
    "\n",
    "    return a_out, b_out\n",
    "\n",
    "# Set up array of permutation replicates\n",
    "perm_reps = np.empty(1000)\n",
    "\n",
    "for i in range(1000):\n",
    "    # Generate a permutation sample\n",
    "    semi_perm, final_perm = swap_random(semi_times, final_times)\n",
    "    \n",
    "    # Compute f from the permutation sample\n",
    "    f = (semi_perm - final_perm) / semi_perm\n",
    "    \n",
    "    # Compute and store permutation replicate\n",
    "    perm_reps[i] = np.mean(f)\n",
    "\n",
    "# Compute and print p-value\n",
    "print('p =', np.sum(perm_reps >= f_mean) / 1000)"
   ]
  },
  {
   "cell_type": "markdown",
   "metadata": {},
   "source": [
    " The p-value is large, about 0.27, which suggests that the results of the 2015 World Championships are consistent with there being no difference in performance between the finals and semifinals."
   ]
  },
  {
   "cell_type": "markdown",
   "metadata": {},
   "source": [
    "#### How does the performance of swimmers decline over long events?50"
   ]
  },
  {
   "cell_type": "markdown",
   "metadata": {},
   "source": [
    "Quantifying slowdown:\n",
    "    1. Use Women's 800m freestyle heats\n",
    "    2. Omit first and last 100m\n",
    "    3. Compute mean split time for each split number\n",
    "    4. Perform linear regression to get slowdown per split\n",
    "    5. Perform hypothesis test: can the slowdown be explained by random variation?"
   ]
  },
  {
   "cell_type": "markdown",
   "metadata": {},
   "source": [
    "Hypothesis for correlation:\n",
    "    Null: Split time and Split number are completely uncorrelated\n",
    "    Alternate: They are correlated\n",
    "Test Statistic : Pearson Cofficient\n"
   ]
  },
  {
   "cell_type": "code",
   "execution_count": 122,
   "metadata": {},
   "outputs": [],
   "source": [
    "splits = np.array([[35.04, 36.39, 35.92, 36.23, 36.67, 36.76, 36.48, 36.85, 36.92,\n",
    "        36.68, 36.97, 36.98],\n",
    "       [34.14, 34.22, 33.67, 33.88, 34.15, 33.91, 34.41, 33.92, 34.36,\n",
    "        34.38, 34.6 , 34.45],\n",
    "       [31.8 , 31.91, 31.95, 32.04, 31.95, 31.65, 31.57, 31.39, 31.61,\n",
    "        31.43, 31.46, 31.47],\n",
    "       [33.16, 32.9 , 32.68, 32.84, 33.55, 33.74, 33.71, 33.6 , 33.71,\n",
    "        33.12, 33.14, 32.79],\n",
    "       [32.97, 32.83, 32.99, 32.94, 33.19, 33.6 , 33.72, 33.74, 33.82,\n",
    "        33.67, 33.86, 33.59],\n",
    "       [34.6 , 34.57, 34.62, 34.96, 35.1 , 35.22, 35.63, 35.56, 35.43,\n",
    "        35.67, 35.26, 35.42],\n",
    "       [32.18, 32.17, 32.15, 32.16, 32.31, 32.27, 32.32, 32.23, 32.42,\n",
    "        32.34, 32.32, 32.27],\n",
    "       [32.4 , 32.14, 32.46, 32.43, 32.58, 32.46, 32.6 , 32.42, 32.79,\n",
    "        32.33, 32.47, 32.63],\n",
    "       [32.67, 32.54, 32.48, 32.42, 32.55, 32.45, 32.94, 33.03, 33.12,\n",
    "        33.47, 33.42, 33.48],\n",
    "       [33.76, 34.95, 34.76, 35.45, 34.99, 36.11, 35.27, 35.82, 35.48,\n",
    "        36.12, 35.2 , 36.07],\n",
    "       [32.57, 32.7 , 32.53, 32.73, 32.84, 32.7 , 32.75, 33.07, 33.01,\n",
    "        33.11, 33.17, 33.02],\n",
    "       [35.04, 34.69, 34.24, 34.07, 34.47, 34.39, 34.98, 34.56, 35.3 ,\n",
    "        34.9 , 35.03, 34.08],\n",
    "       [32.61, 32.97, 33.09, 33.19, 33.72, 33.92, 34.12, 33.82, 34.07,\n",
    "        34.22, 34.26, 34.07],\n",
    "       [31.01, 31.49, 31.38, 31.47, 31.58, 31.56, 31.68, 31.68, 32.09,\n",
    "        31.83, 32.25, 31.67],\n",
    "       [32.29, 32.36, 32.43, 32.56, 32.84, 32.73, 32.77, 32.78, 32.91,\n",
    "        33.15, 33.19, 33.32],\n",
    "       [31.92, 32.14, 31.87, 32.02, 31.84, 32.47, 32.17, 32.73, 32.45,\n",
    "        33.16, 33.01, 33.08],\n",
    "       [32.1 , 32.47, 32.32, 32.84, 32.38, 32.93, 32.36, 32.96, 32.72,\n",
    "        33.35, 32.95, 33.77],\n",
    "       [35.97, 35.96, 36.09, 36.  , 36.59, 36.55, 36.4 , 36.58, 36.89,\n",
    "        36.69, 36.81, 36.73],\n",
    "       [31.69, 31.56, 31.76, 31.43, 31.69, 31.77, 31.88, 31.66, 31.96,\n",
    "        31.87, 31.66, 31.73],\n",
    "       [31.71, 32.23, 31.89, 32.31, 32.01, 32.62, 32.12, 33.  , 32.63,\n",
    "        33.14, 32.55, 33.39],\n",
    "       [31.99, 31.94, 31.82, 32.02, 31.71, 32.  , 31.79, 31.87, 31.97,\n",
    "        32.15, 32.09, 32.3 ],\n",
    "       [31.88, 31.78, 31.67, 31.68, 31.97, 31.7 , 31.71, 31.87, 31.91,\n",
    "        32.  , 31.83, 32.13],\n",
    "       [32.49, 32.32, 32.77, 32.8 , 32.87, 32.85, 32.89, 33.  , 33.12,\n",
    "        32.86, 33.05, 32.75],\n",
    "       [31.99, 31.93, 31.76, 31.85, 31.95, 31.82, 31.64, 31.49, 31.78,\n",
    "        31.67, 32.28, 31.85],\n",
    "       [32.19, 32.32, 32.55, 32.74, 32.59, 32.94, 32.75, 33.09, 32.91,\n",
    "        33.53, 33.06, 33.  ],\n",
    "       [32.37, 32.62, 32.38, 33.07, 32.91, 33.45, 32.97, 33.38, 33.24,\n",
    "        33.33, 32.93, 32.53],\n",
    "       [32.8 , 33.38, 33.18, 33.78, 33.78, 34.32, 34.1 , 34.88, 33.97,\n",
    "        34.96, 34.44, 34.93],\n",
    "       [34.9 , 35.03, 35.25, 35.42, 35.88, 35.63, 35.63, 35.66, 35.45,\n",
    "        35.66, 35.39, 35.34],\n",
    "       [32.67, 32.3 , 32.4 , 32.48, 32.52, 32.59, 32.73, 32.67, 32.97,\n",
    "        32.7 , 32.87, 32.82],\n",
    "       [32.68, 33.02, 32.8 , 32.94, 33.28, 33.46, 33.2 , 33.42, 33.14,\n",
    "        33.36, 33.38, 33.31],\n",
    "       [33.96, 33.93, 33.62, 33.76, 33.31, 33.7 , 33.02, 33.66, 33.57,\n",
    "        33.37, 33.91, 33.92],\n",
    "       [32.36, 32.6 , 32.12, 32.67, 32.56, 32.91, 32.84, 33.17, 32.95,\n",
    "        33.44, 33.25, 33.59],\n",
    "       [31.69, 31.81, 31.99, 31.99, 32.01, 31.77, 31.67, 31.62, 31.66,\n",
    "        31.82, 31.63, 31.72],\n",
    "       [36.95, 37.44, 36.96, 37.12, 37.51, 37.07, 37.49, 36.66, 36.84,\n",
    "        37.11, 37.55, 37.6 ],\n",
    "       [32.61, 32.92, 32.74, 32.88, 33.16, 33.21, 33.2 , 33.13, 33.04,\n",
    "        33.09, 33.31, 33.45],\n",
    "       [31.01, 31.5 , 31.29, 31.59, 31.77, 31.67, 31.79, 31.94, 32.  ,\n",
    "        31.98, 32.1 , 32.03],\n",
    "       [33.66, 33.92, 33.99, 34.21, 33.99, 34.16, 34.22, 34.44, 34.11,\n",
    "        34.37, 34.43, 34.33],\n",
    "       [32.91, 33.59, 33.56, 33.96, 34.83, 34.98, 35.43, 35.09, 35.94,\n",
    "        35.99, 36.16, 35.74],\n",
    "       [33.23, 34.1 , 33.87, 34.28, 34.23, 34.37, 34.19, 34.38, 34.23,\n",
    "        34.48, 34.34, 34.4 ],\n",
    "       [32.34, 32.3 , 32.13, 32.4 , 32.74, 32.57, 32.81, 32.92, 32.89,\n",
    "        32.92, 33.01, 32.73],\n",
    "       [30.77, 31.1 , 31.2 , 31.36, 31.31, 31.44, 31.31, 31.7 , 31.75,\n",
    "        31.64, 31.86, 31.97],\n",
    "       [31.9 , 31.98, 32.04, 31.98, 31.97, 31.83, 32.04, 31.92, 32.02,\n",
    "        31.96, 32.07, 31.99],\n",
    "       [32.39, 32.13, 32.24, 32.28, 32.17, 32.22, 32.1 , 32.25, 32.4 ,\n",
    "        32.55, 32.64, 32.48]])\n",
    "split_number = np.array([ 3,  4,  5,  6,  7,  8,  9, 10, 11, 12, 13, 14])"
   ]
  },
  {
   "cell_type": "code",
   "execution_count": 123,
   "metadata": {},
   "outputs": [
    {
     "data": {
      "image/png": "[encoded data removed]",
      "text/plain": [
       "<Figure size 432x288 with 1 Axes>"
      ]
     },
     "metadata": {},
     "output_type": "display_data"
    }
   ],
   "source": [
    "# Plot the splits for each swimmer\n",
    "for splitset in splits:\n",
    "    _ = plt.plot(split_number, splitset, lw=1, color='lightgray')\n",
    "\n",
    "# Compute the mean split times\n",
    "mean_splits = np.mean(splits,axis=0)\n",
    "\n",
    "# Plot the mean split times\n",
    "_ = plt.plot(split_number, mean_splits, marker='.', linewidth=3, markersize=12)\n",
    "\n",
    "# Label axes and show plot\n",
    "_ = plt.xlabel('split number')\n",
    "_ = plt.ylabel('split time (s)')\n",
    "plt.show()"
   ]
  },
  {
   "cell_type": "markdown",
   "metadata": {},
   "source": [
    "**Linear regression of average split time**\n",
    "\n",
    "We will assume that the swimmers slow down in a linear fashion over the course of the 800 m event. The slowdown per split is then the slope of the mean split time versus split number plot."
   ]
  },
  {
   "cell_type": "code",
   "execution_count": 124,
   "metadata": {},
   "outputs": [
    {
     "data": {
      "image/png": "[encoded data removed]",
      "text/plain": [
       "<Figure size 432x288 with 1 Axes>"
      ]
     },
     "metadata": {},
     "output_type": "display_data"
    },
    {
     "name": "stdout",
     "output_type": "stream",
     "text": [
      "\n",
      "mean slowdown: 0.065 sec./split\n",
      "95% conf int of mean slowdown: [0.051, 0.079] sec./split\n"
     ]
    }
   ],
   "source": [
    "# Perform regression\n",
    "slowdown, split_3 = np.polyfit(split_number,mean_splits,1)\n",
    "\n",
    "# Compute pairs bootstrap\n",
    "bs_reps, _ = dcst.draw_bs_pairs_linreg(split_number,mean_splits,size=10000)\n",
    "\n",
    "# Compute confidence interval\n",
    "conf_int = np.percentile(bs_reps,[2.5,97.5])\n",
    "\n",
    "# Plot the data with regressions line\n",
    "_ = plt.plot(split_number, mean_splits, marker='.', linestyle='none')\n",
    "_ = plt.plot(split_number, split_number * slowdown + split_3, '-')\n",
    "\n",
    "# Label axes and show plot\n",
    "_ = plt.xlabel('split number')\n",
    "_ = plt.ylabel('split time (s)')\n",
    "plt.show()\n",
    "\n",
    "# Print the slowdown per split\n",
    "print(\"\"\"\n",
    "mean slowdown: {0:.3f} sec./split\n",
    "95% conf int of mean slowdown: [{1:.3f}, {2:.3f}] sec./split\"\"\".format(\n",
    "    slowdown, *conf_int))\n"
   ]
  },
  {
   "cell_type": "markdown",
   "metadata": {},
   "source": [
    "There is a small (about 6 hundreths of a second), but discernible, slowdown per split."
   ]
  },
  {
   "cell_type": "markdown",
   "metadata": {},
   "source": [
    "**Hypothesis test: are they slowing down?**\n",
    "\n",
    "Now we will test the null hypothesis that the swimmer's split time is not at all correlated with the distance they are at in the swim. We will use the Pearson correlation coefficient as the test statistic."
   ]
  },
  {
   "cell_type": "code",
   "execution_count": 125,
   "metadata": {},
   "outputs": [
    {
     "name": "stdout",
     "output_type": "stream",
     "text": [
      "p = 0.0\n"
     ]
    }
   ],
   "source": [
    "# Observed correlation\n",
    "rho = dcst.pearson_r(split_number,mean_splits)\n",
    "\n",
    "# Initialize permutation reps\n",
    "perm_reps_rho = np.empty(10000)\n",
    "\n",
    "# Make permutation reps\n",
    "for i in range(10000):\n",
    "    # Scramble the split number array\n",
    "    scrambled_split_number = np.random.permutation(split_number)\n",
    "    \n",
    "    # Compute the Pearson correlation coefficient\n",
    "    perm_reps_rho[i] = dcst.pearson_r(scrambled_split_number,mean_splits)\n",
    "    \n",
    "# Compute and print p-value\n",
    "p_val = np.sum(perm_reps_rho >= rho) / 10000\n",
    "print('p =', p_val)\n"
   ]
  },
  {
   "cell_type": "markdown",
   "metadata": {},
   "source": [
    "The tiny effect is very real! With 10,000 replicates, we never got a correlation as big as observed under the hypothesis that the swimmers do not change speed as the race progresses."
   ]
  },
  {
   "cell_type": "markdown",
   "metadata": {},
   "source": [
    "# 2013 Current Controversy"
   ]
  },
  {
   "cell_type": "markdown",
   "metadata": {},
   "source": [
    "1. Investigate improvement of individual swimmers moving from low to hih numbered lanes in 50m events\n",
    "2. Compute the size of the effect\n",
    "3. Test the hypothesis that on average there is no difference between low and high numbered lanes "
   ]
  },
  {
   "cell_type": "markdown",
   "metadata": {},
   "source": [
    "A mteric for improvement\n",
    "The fractional improvement of swim time, (ta - tb) / ta.\n",
    "where ta is the swim time in a low numbered lane and tb is the swim time in a high numbered lane"
   ]
  },
  {
   "cell_type": "code",
   "execution_count": 128,
   "metadata": {},
   "outputs": [],
   "source": [
    "swimtime_high_lanes = np.array([24.62, 22.9 , 27.05, 24.76, 30.31, 24.54, 26.12, 27.71, 23.15,\n",
    "       23.11, 21.62, 28.02, 24.73, 24.95, 25.83, 30.61, 27.04, 21.67,\n",
    "       27.16, 30.23, 21.51, 22.97, 28.05, 21.65, 24.54, 26.06])\n",
    "swimtime_low_lanes = np.array([24.66, 23.28, 27.2 , 24.95, 32.34, 24.66, 26.17, 27.93, 23.35,\n",
    "       22.93, 21.93, 28.33, 25.14, 25.19, 26.11, 31.31, 27.44, 21.85,\n",
    "       27.48, 30.66, 21.74, 23.22, 27.93, 21.42, 24.79, 26.46])"
   ]
  },
  {
   "cell_type": "markdown",
   "metadata": {},
   "source": [
    "** ECDF of improvement from low to high lanes**"
   ]
  },
  {
   "cell_type": "code",
   "execution_count": 129,
   "metadata": {},
   "outputs": [
    {
     "data": {
      "image/png": "[encoded data removed]",
      "text/plain": [
       "<Figure size 432x288 with 1 Axes>"
      ]
     },
     "metadata": {},
     "output_type": "display_data"
    }
   ],
   "source": [
    "# Compute the fractional improvement of being in high lane: f\n",
    "f = (swimtime_low_lanes - swimtime_high_lanes) / swimtime_low_lanes\n",
    "\n",
    "# Make x and y values for ECDF: x, y\n",
    "x,y = dcst.ecdf(f)\n",
    "\n",
    "# Plot the ECDFs as dots\n",
    "_ = plt.plot(x,y,marker='.',linestyle='none')\n",
    "# Label the axes and show the plot\n",
    "_=plt.xlabel('f')\n",
    "_= plt.ylabel('ECDF')\n",
    "plt.show()\n",
    "\n"
   ]
  },
  {
   "cell_type": "markdown",
   "metadata": {},
   "source": [
    " Oooo, this is starting to paint a picture of lane bias. The ECDF demonstrates that all but three of the 26 swimmers swam faster in the high numbered lanes"
   ]
  },
  {
   "cell_type": "markdown",
   "metadata": {},
   "source": [
    "**Estimation of mean improvement**\n",
    "\n",
    "We will now estimate how big this current effect is. Let us compute the mean fractional improvement for being in a high-numbered lane versus a low-numbered lane, along with a 95% confidence interval of the mean."
   ]
  },
  {
   "cell_type": "code",
   "execution_count": 130,
   "metadata": {},
   "outputs": [
    {
     "name": "stdout",
     "output_type": "stream",
     "text": [
      "\n",
      "mean frac. diff.: 0.01051\n",
      "95% conf int of mean frac. diff.: [0.00622, 0.01597]\n"
     ]
    }
   ],
   "source": [
    "# Compute the mean difference: f_mean\n",
    "f_mean = np.mean(f)\n",
    "\n",
    "# Draw 10,000 bootstrap replicates: bs_reps\n",
    "bs_reps = dcst.draw_bs_reps(f,np.mean,size=10000)\n",
    "\n",
    "# Compute 95% confidence interval: conf_int\n",
    "conf_int = np.percentile(bs_reps,[2.5,97.5])\n",
    "\n",
    "# Print the result\n",
    "print(\"\"\"\n",
    "mean frac. diff.: {0:.5f}\n",
    "95% conf int of mean frac. diff.: [{1:.5f}, {2:.5f}]\"\"\".format(f_mean, *conf_int))"
   ]
  },
  {
   "cell_type": "markdown",
   "metadata": {},
   "source": [
    "It sure looks like swimmers are faster in lanes 6-8."
   ]
  },
  {
   "cell_type": "markdown",
   "metadata": {},
   "source": [
    "**Simulating for Hypothesis**\n",
    "\n",
    "Subtract the mean of f from f to generate f_shift. Then, take bootstrap replicate of the mean from this f_shift."
   ]
  },
  {
   "cell_type": "markdown",
   "metadata": {},
   "source": [
    "**Hypothesis test: Does lane assignment affect performance?**"
   ]
  },
  {
   "cell_type": "code",
   "execution_count": 131,
   "metadata": {},
   "outputs": [
    {
     "name": "stdout",
     "output_type": "stream",
     "text": [
      "p = 0.00041\n"
     ]
    }
   ],
   "source": [
    "# Shift f: f_shift\n",
    "f_shift = f - np.mean(f)\n",
    "\n",
    "# Draw 100,000 bootstrap replicates of the mean: bs_reps\n",
    "bs_reps = dcst.draw_bs_reps(f_shift,np.mean,size=100000)\n",
    "\n",
    "# Compute and report the p-value\n",
    "p_val = np.sum(bs_reps >= f_mean) / 100000\n",
    "print('p =', p_val)"
   ]
  },
  {
   "cell_type": "markdown",
   "metadata": {},
   "source": [
    "**A p-value of 0.0004 is quite small and suggests that the mean fractional improvment is greater than zero.**"
   ]
  },
  {
   "cell_type": "markdown",
   "metadata": {},
   "source": [
    "**Did the 2015 event have this problem?**\n",
    "\n",
    "We would like to know if this is a typical problem with pools in competitive swimming. To address this question, perform a similar analysis for the results of the 2015 FINA World Championships. That is, compute the mean fractional improvement for going from lanes 1-3 to lanes 6-8 for the 2015 competition, along with a 95% confidence interval on the mean. Also test the hypothesis that the mean fractional improvement is zero."
   ]
  },
  {
   "cell_type": "code",
   "execution_count": 134,
   "metadata": {},
   "outputs": [],
   "source": [
    "swimtime_high_lanes_15 = np.array([27.7 , 24.64, 23.21, 23.09, 26.87, 30.74, 21.88, 24.5 , 21.86,\n",
    "       25.9 , 26.2 , 24.73, 30.13, 26.92, 24.31, 30.25, 26.76])\n",
    "swimtime_low_lanes_15 = np.array([27.66, 24.69, 23.29, 23.05, 26.87, 31.03, 22.04, 24.51, 21.86,\n",
    "       25.64, 25.91, 24.77, 30.14, 27.23, 24.31, 30.2 , 26.86])"
   ]
  },
  {
   "cell_type": "code",
   "execution_count": 135,
   "metadata": {},
   "outputs": [
    {
     "name": "stdout",
     "output_type": "stream",
     "text": [
      "\n",
      "mean frac. diff.: 0.00079\n",
      "95% conf int of mean frac. diff.: [-0.00190, 0.00344]\n",
      "p-value: 0.28111\n"
     ]
    }
   ],
   "source": [
    "# Compute f and its mean\n",
    "f = (swimtime_low_lanes_15 - swimtime_high_lanes_15) / swimtime_low_lanes_15\n",
    "f_mean = np.mean(f)\n",
    "\n",
    "# Draw 10,000 bootstrap replicates\n",
    "bs_reps = dcst.draw_bs_reps(f,np.mean,size=10000)\n",
    "\n",
    "# Compute 95% confidence interval\n",
    "conf_int = np.percentile(bs_reps,[2.5,97.5])\n",
    "\n",
    "# Shift f\n",
    "f_shift = f - np.mean(f)\n",
    "\n",
    "# Draw 100,000 bootstrap replicates of the mean\n",
    "bs_reps = dcst.draw_bs_reps(f_shift,np.mean,size=100000)\n",
    "\n",
    "# Compute the p-value\n",
    "p_val = np.sum(bs_reps >= f_mean) / 100000\n",
    "\n",
    "# Print the results\n",
    "print(\"\"\"\n",
    "mean frac. diff.: {0:.5f}\n",
    "95% conf int of mean frac. diff.: [{1:.5f}, {2:.5f}]\n",
    "p-value: {3:.5f}\"\"\".format(f_mean, *conf_int,p_val))"
   ]
  },
  {
   "cell_type": "markdown",
   "metadata": {},
   "source": [
    "**Both the confidence interval an the p-value suggest that there was no lane bias in 2015.**"
   ]
  },
  {
   "cell_type": "markdown",
   "metadata": {},
   "source": [
    "**The Zigzag Effect**\n",
    "We can see that in 2013, there is zig zag effect for lanes 1-3 and 6-8. It suspects us for the currents in pool water since there is no zig zag patter in 2015(faded plot)\n",
    "\n",
    "![title](images/download.jpg)"
   ]
  },
  {
   "cell_type": "markdown",
   "metadata": {},
   "source": [
    "**Which splits should we consider?**\n",
    "\n",
    "\n",
    "As we proceed to quantitatively analyze the zigzag effect in the 1500 m, which splits should we include in our analysis?"
   ]
  },
  {
   "cell_type": "markdown",
   "metadata": {},
   "source": [
    "We should include all splits except the first two and the last two. We should neglect the last two because swimmers stop pacing themselves and \"kick\" for the final stretch. The first two are different because they involve jumping off the starting blocks and more underwater swimming than others."
   ]
  },
  {
   "cell_type": "code",
   "execution_count": null,
   "metadata": {},
   "outputs": [],
   "source": []
  },
  {
   "cell_type": "markdown",
   "metadata": {},
   "source": [
    "**EDA: mean differences between odd and even splits**\n",
    "To investigate the differences between odd and even splits, we first need to define a difference metric. Previouly we investigated the improvement of moving from a low-numbered lane to a high-numbered lane, defining f = (ta - tb) / ta. There, the ta in the denominator served as our reference time for improvement. Here, we are considering both improvement and decline in performance depending on the direction of swimming, so we want the reference to be an average. So, we will define the fractional difference as f = 2(ta - tb) / (ta + tb).\n",
    "\n",
    "We plot the mean fractional difference between odd and even splits versus lane number. We have already calculated the mean fractional differences for the 2013 and 2015 Worlds, and they are stored in f_13 and f_15. The corresponding lane numbers are in the array lanes."
   ]
  },
  {
   "cell_type": "code",
   "execution_count": 141,
   "metadata": {},
   "outputs": [],
   "source": [
    "f_13 = np.array([-0.01562214, -0.0146381 , -0.00977673, -0.00525713,  0.00204104,\n",
    "        0.00381014,  0.0075664 ,  0.01525869])\n",
    "f_15 = np.array([-0.00516018, -0.00392952, -0.00099284,  0.00059953, -0.002424  ,\n",
    "       -0.00451099,  0.00047467,  0.00081962])\n",
    "lanes = np.linspace(1,8,8)"
   ]
  },
  {
   "cell_type": "code",
   "execution_count": 143,
   "metadata": {},
   "outputs": [
    {
     "data": {
      "image/png": "[encoded data removed]",
      "text/plain": [
       "<Figure size 432x288 with 1 Axes>"
      ]
     },
     "metadata": {},
     "output_type": "display_data"
    }
   ],
   "source": [
    "# Plot the the fractional difference for 2013 and 2015\n",
    "_ = plt.plot(lanes,f_13,marker='.',markersize=12,linestyle='none')\n",
    "_ = plt.plot(lanes,f_15,marker='.',markersize=12,linestyle='none')\n",
    "\n",
    "# Add a legend\n",
    "_ = plt.legend((2013, 2015))\n",
    "\n",
    "# Label axes and show plot\n",
    "_ = plt.xlabel('lane')\n",
    "_ = plt.ylabel('frac. diff. (odd - even)')\n",
    "plt.show()"
   ]
  },
  {
   "cell_type": "markdown",
   "metadata": {},
   "source": [
    "EDA has exposed a strong slope in 2013 compared to 2015!"
   ]
  },
  {
   "cell_type": "markdown",
   "metadata": {},
   "source": [
    "**How does the current effect depend on lane position?**\n",
    "\n",
    "To quantify the effect of lane number on performance, perform a linear regression on the f_13 versus lanes data. Do a pairs bootstrap calculation to get a 95% confidence interval. Finally, make a plot of the regression"
   ]
  },
  {
   "cell_type": "code",
   "execution_count": 146,
   "metadata": {},
   "outputs": [
    {
     "name": "stdout",
     "output_type": "stream",
     "text": [
      "\n",
      "slope: 0.00447 per lane\n",
      "95% conf int: [0.00393, 0.00501] per lane\n"
     ]
    },
    {
     "data": {
      "image/png": "[encoded data removed]",
      "text/plain": [
       "<Figure size 432x288 with 1 Axes>"
      ]
     },
     "metadata": {},
     "output_type": "display_data"
    }
   ],
   "source": [
    "# Compute the slope and intercept of the frac diff/lane curve\n",
    "slope, intercept = np.polyfit(lanes,f_13,1)\n",
    "\n",
    "# Compute bootstrap replicates\n",
    "bs_reps_slope, bs_reps_int = dcst.draw_bs_pairs_linreg(lanes,f_13,size=10000)\n",
    "\n",
    "# Compute 95% confidence interval of slope\n",
    "conf_int = np.percentile(bs_reps_slope,[2.5,97.5])\n",
    "\n",
    "# Print slope and confidence interval\n",
    "print(\"\"\"\n",
    "slope: {0:.5f} per lane\n",
    "95% conf int: [{1:.5f}, {2:.5f}] per lane\"\"\".format(slope, *conf_int))\n",
    "\n",
    "# x-values for plotting regression lines\n",
    "x = np.array([1,8])\n",
    "_ = plt.plot(lanes,f_13,marker='.',markersize=12,linestyle='none')\n",
    "# Plot 100 bootstrap replicate lines\n",
    "for i in range(100):\n",
    "    _ = plt.plot(x, bs_reps_slope[i]*x+ bs_reps_int[i], \n",
    "                 color='red', alpha=0.2, linewidth=0.5)\n",
    "    \n",
    "# Update the plot\n",
    "plt.draw()\n",
    "plt.show()\n"
   ]
  },
  {
   "cell_type": "markdown",
   "metadata": {},
   "source": [
    "The slope is a fractional difference of about 0.4% per lane. This is quite a substantial difference at this elite level of swimming where races can be decided by tiny differences."
   ]
  },
  {
   "cell_type": "markdown",
   "metadata": {},
   "source": [
    "**Hypothesis test: can this be by chance?**\n",
    "    \n",
    "The EDA and linear regression analysis is pretty conclusive. Nonetheless, we will top off the analysis of the zigzag effect by testing the hypothesis that lane assignment has nothing to do with the mean fractional difference between even and odd lanes using a permutation test. We will use the Pearson correlation coefficient. "
   ]
  },
  {
   "cell_type": "code",
   "execution_count": 147,
   "metadata": {},
   "outputs": [
    {
     "name": "stdout",
     "output_type": "stream",
     "text": [
      "p = 0.0\n"
     ]
    }
   ],
   "source": [
    "# Compute observed correlation: rho\n",
    "rho = dcst.pearson_r(lanes,f_13)\n",
    "\n",
    "# Initialize permutation reps: perm_reps_rho\n",
    "perm_reps_rho = np.empty(10000)\n",
    "\n",
    "# Make permutation reps\n",
    "for i in range(10000):\n",
    "    # Scramble the lanes array: scrambled_lanes\n",
    "    scrambled_lanes = np.random.permutation(lanes)\n",
    "    # Compute the Pearson correlation coefficient\n",
    "    perm_reps_rho[i] = dcst.pearson_r(scrambled_lanes,f_13)\n",
    "    \n",
    "# Compute and print p-value\n",
    "p_val = np.sum(perm_reps_rho >= rho) / 10000\n",
    "print('p =', p_val)"
   ]
  },
  {
   "cell_type": "markdown",
   "metadata": {},
   "source": [
    "The p-value is very small, as we would expect from the confidence interval of the last exercise"
   ]
  },
  {
   "cell_type": "code",
   "execution_count": null,
   "metadata": {},
   "outputs": [],
   "source": []
  }
 ],
 "metadata": {
  "kernelspec": {
   "display_name": "Python 3",
   "language": "python",
   "name": "python3"
  },
  "language_info": {
   "codemirror_mode": {
    "name": "ipython",
    "version": 3
   },
   "file_extension": ".py",
   "mimetype": "text/x-python",
   "name": "python",
   "nbconvert_exporter": "python",
   "pygments_lexer": "ipython3",
   "version": "3.6.5"
  }
 },
 "nbformat": 4,
 "nbformat_minor": 2
}
