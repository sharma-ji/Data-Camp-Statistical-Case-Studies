{
 "cells": [
  {
   "cell_type": "markdown",
   "metadata": {},
   "source": [
    "# Statistical seismology and the Parkfield experiment\n"
   ]
  },
  {
   "cell_type": "markdown",
   "metadata": {},
   "source": [
    "**The Gutenberg-Ritcher Law**\n",
    "\n",
    "The magnitudes of earthquakes in a given region over a given period are Exponentially distributed\n",
    "One parameter given by mean of magnitude - mt, describes the earthqauke magnitude of the region. \n",
    "\n",
    "The b-value is used ,\n",
    " b = (mean of magnitude -mt).log(10)"
   ]
  },
  {
   "cell_type": "code",
   "execution_count": 52,
   "metadata": {},
   "outputs": [],
   "source": [
    "# importing libraries \n",
    "import numpy as np\n",
    "import pandas as pd\n",
    "import matplotlib.pyplot as plt \n",
    "import dc_stat_think as dcst\n",
    "from datetime import date\n",
    "%matplotlib inline "
   ]
  },
  {
   "cell_type": "code",
   "execution_count": 28,
   "metadata": {},
   "outputs": [],
   "source": [
    "# getting the data \n",
    "parkefield = pd.read_csv('datasets/parkfield_earthquakes_1950-2017.csv',comment='#')\n",
    "oklahoma = pd.read_csv('datasets/oklahoma_earthquakes_1950-2017.csv',comment='#',date_parser='time')"
   ]
  },
  {
   "cell_type": "code",
   "execution_count": 29,
   "metadata": {},
   "outputs": [
    {
     "data": {
      "text/html": [
       "<div>\n",
       "<style scoped>\n",
       "    .dataframe tbody tr th:only-of-type {\n",
       "        vertical-align: middle;\n",
       "    }\n",
       "\n",
       "    .dataframe tbody tr th {\n",
       "        vertical-align: top;\n",
       "    }\n",
       "\n",
       "    .dataframe thead th {\n",
       "        text-align: right;\n",
       "    }\n",
       "</style>\n",
       "<table border=\"1\" class=\"dataframe\">\n",
       "  <thead>\n",
       "    <tr style=\"text-align: right;\">\n",
       "      <th></th>\n",
       "      <th>time</th>\n",
       "      <th>latitude</th>\n",
       "      <th>longitude</th>\n",
       "      <th>depth</th>\n",
       "      <th>mag</th>\n",
       "      <th>magType</th>\n",
       "      <th>nst</th>\n",
       "      <th>gap</th>\n",
       "      <th>dmin</th>\n",
       "      <th>rms</th>\n",
       "      <th>...</th>\n",
       "      <th>depthError</th>\n",
       "      <th>magError</th>\n",
       "      <th>magNst</th>\n",
       "      <th>status</th>\n",
       "      <th>locationSource</th>\n",
       "      <th>magSource</th>\n",
       "      <th>loc_name</th>\n",
       "      <th>loc_admin1</th>\n",
       "      <th>loc_admin2</th>\n",
       "      <th>loc_cc</th>\n",
       "    </tr>\n",
       "  </thead>\n",
       "  <tbody>\n",
       "    <tr>\n",
       "      <th>0</th>\n",
       "      <td>1951-10-03 13:44:33.170</td>\n",
       "      <td>35.869333</td>\n",
       "      <td>-120.451000</td>\n",
       "      <td>6.0</td>\n",
       "      <td>3.67</td>\n",
       "      <td>ml</td>\n",
       "      <td>6.0</td>\n",
       "      <td>259.0</td>\n",
       "      <td>1.5480</td>\n",
       "      <td>0.43</td>\n",
       "      <td>...</td>\n",
       "      <td>31.61</td>\n",
       "      <td>0.154</td>\n",
       "      <td>10.0</td>\n",
       "      <td>reviewed</td>\n",
       "      <td>ci</td>\n",
       "      <td>ci</td>\n",
       "      <td>Shandon</td>\n",
       "      <td>California</td>\n",
       "      <td>San Luis Obispo County</td>\n",
       "      <td>US</td>\n",
       "    </tr>\n",
       "    <tr>\n",
       "      <th>1</th>\n",
       "      <td>1953-05-28 07:58:34.510</td>\n",
       "      <td>36.004167</td>\n",
       "      <td>-120.501167</td>\n",
       "      <td>6.0</td>\n",
       "      <td>3.61</td>\n",
       "      <td>ml</td>\n",
       "      <td>7.0</td>\n",
       "      <td>296.0</td>\n",
       "      <td>0.9139</td>\n",
       "      <td>0.39</td>\n",
       "      <td>...</td>\n",
       "      <td>31.61</td>\n",
       "      <td>NaN</td>\n",
       "      <td>1.0</td>\n",
       "      <td>reviewed</td>\n",
       "      <td>ci</td>\n",
       "      <td>ci</td>\n",
       "      <td>Coalinga</td>\n",
       "      <td>California</td>\n",
       "      <td>Fresno County</td>\n",
       "      <td>US</td>\n",
       "    </tr>\n",
       "    <tr>\n",
       "      <th>2</th>\n",
       "      <td>1961-12-14 11:51:15.410</td>\n",
       "      <td>35.970000</td>\n",
       "      <td>-120.470167</td>\n",
       "      <td>6.0</td>\n",
       "      <td>3.95</td>\n",
       "      <td>ml</td>\n",
       "      <td>12.0</td>\n",
       "      <td>297.0</td>\n",
       "      <td>0.8718</td>\n",
       "      <td>0.51</td>\n",
       "      <td>...</td>\n",
       "      <td>31.61</td>\n",
       "      <td>0.070</td>\n",
       "      <td>11.0</td>\n",
       "      <td>reviewed</td>\n",
       "      <td>ci</td>\n",
       "      <td>ci</td>\n",
       "      <td>Coalinga</td>\n",
       "      <td>California</td>\n",
       "      <td>Fresno County</td>\n",
       "      <td>US</td>\n",
       "    </tr>\n",
       "    <tr>\n",
       "      <th>3</th>\n",
       "      <td>1965-02-21 18:39:24.500</td>\n",
       "      <td>35.881000</td>\n",
       "      <td>-120.383500</td>\n",
       "      <td>6.0</td>\n",
       "      <td>3.54</td>\n",
       "      <td>ml</td>\n",
       "      <td>10.0</td>\n",
       "      <td>257.0</td>\n",
       "      <td>1.5380</td>\n",
       "      <td>0.56</td>\n",
       "      <td>...</td>\n",
       "      <td>31.61</td>\n",
       "      <td>0.048</td>\n",
       "      <td>11.0</td>\n",
       "      <td>reviewed</td>\n",
       "      <td>ci</td>\n",
       "      <td>ci</td>\n",
       "      <td>Shandon</td>\n",
       "      <td>California</td>\n",
       "      <td>San Luis Obispo County</td>\n",
       "      <td>US</td>\n",
       "    </tr>\n",
       "    <tr>\n",
       "      <th>4</th>\n",
       "      <td>1966-06-28 04:18:36.180</td>\n",
       "      <td>35.856500</td>\n",
       "      <td>-120.446167</td>\n",
       "      <td>6.0</td>\n",
       "      <td>3.15</td>\n",
       "      <td>ml</td>\n",
       "      <td>7.0</td>\n",
       "      <td>259.0</td>\n",
       "      <td>1.3120</td>\n",
       "      <td>0.32</td>\n",
       "      <td>...</td>\n",
       "      <td>31.61</td>\n",
       "      <td>0.105</td>\n",
       "      <td>7.0</td>\n",
       "      <td>reviewed</td>\n",
       "      <td>ci</td>\n",
       "      <td>ci</td>\n",
       "      <td>Shandon</td>\n",
       "      <td>California</td>\n",
       "      <td>San Luis Obispo County</td>\n",
       "      <td>US</td>\n",
       "    </tr>\n",
       "  </tbody>\n",
       "</table>\n",
       "<p>5 rows × 26 columns</p>\n",
       "</div>"
      ],
      "text/plain": [
       "                      time   latitude   longitude  depth   mag magType   nst  \\\n",
       "0  1951-10-03 13:44:33.170  35.869333 -120.451000    6.0  3.67      ml   6.0   \n",
       "1  1953-05-28 07:58:34.510  36.004167 -120.501167    6.0  3.61      ml   7.0   \n",
       "2  1961-12-14 11:51:15.410  35.970000 -120.470167    6.0  3.95      ml  12.0   \n",
       "3  1965-02-21 18:39:24.500  35.881000 -120.383500    6.0  3.54      ml  10.0   \n",
       "4  1966-06-28 04:18:36.180  35.856500 -120.446167    6.0  3.15      ml   7.0   \n",
       "\n",
       "     gap    dmin   rms  ...   depthError magError magNst    status  \\\n",
       "0  259.0  1.5480  0.43  ...        31.61    0.154   10.0  reviewed   \n",
       "1  296.0  0.9139  0.39  ...        31.61      NaN    1.0  reviewed   \n",
       "2  297.0  0.8718  0.51  ...        31.61    0.070   11.0  reviewed   \n",
       "3  257.0  1.5380  0.56  ...        31.61    0.048   11.0  reviewed   \n",
       "4  259.0  1.3120  0.32  ...        31.61    0.105    7.0  reviewed   \n",
       "\n",
       "  locationSource  magSource  loc_name  loc_admin1              loc_admin2  \\\n",
       "0             ci         ci   Shandon  California  San Luis Obispo County   \n",
       "1             ci         ci  Coalinga  California           Fresno County   \n",
       "2             ci         ci  Coalinga  California           Fresno County   \n",
       "3             ci         ci   Shandon  California  San Luis Obispo County   \n",
       "4             ci         ci   Shandon  California  San Luis Obispo County   \n",
       "\n",
       "  loc_cc  \n",
       "0     US  \n",
       "1     US  \n",
       "2     US  \n",
       "3     US  \n",
       "4     US  \n",
       "\n",
       "[5 rows x 26 columns]"
      ]
     },
     "execution_count": 29,
     "metadata": {},
     "output_type": "execute_result"
    }
   ],
   "source": [
    "parkefield.head()"
   ]
  },
  {
   "cell_type": "code",
   "execution_count": 5,
   "metadata": {},
   "outputs": [],
   "source": [
    "mags = parkefield.mag.values"
   ]
  },
  {
   "cell_type": "code",
   "execution_count": 22,
   "metadata": {},
   "outputs": [
    {
     "data": {
      "text/html": [
       "<div>\n",
       "<style scoped>\n",
       "    .dataframe tbody tr th:only-of-type {\n",
       "        vertical-align: middle;\n",
       "    }\n",
       "\n",
       "    .dataframe tbody tr th {\n",
       "        vertical-align: top;\n",
       "    }\n",
       "\n",
       "    .dataframe thead th {\n",
       "        text-align: right;\n",
       "    }\n",
       "</style>\n",
       "<table border=\"1\" class=\"dataframe\">\n",
       "  <thead>\n",
       "    <tr style=\"text-align: right;\">\n",
       "      <th></th>\n",
       "      <th>time</th>\n",
       "      <th>latitude</th>\n",
       "      <th>longitude</th>\n",
       "      <th>depth</th>\n",
       "      <th>mag</th>\n",
       "      <th>magType</th>\n",
       "      <th>nst</th>\n",
       "      <th>gap</th>\n",
       "      <th>dmin</th>\n",
       "      <th>rms</th>\n",
       "      <th>...</th>\n",
       "      <th>depthError</th>\n",
       "      <th>magError</th>\n",
       "      <th>magNst</th>\n",
       "      <th>status</th>\n",
       "      <th>locationSource</th>\n",
       "      <th>magSource</th>\n",
       "      <th>loc_name</th>\n",
       "      <th>loc_admin1</th>\n",
       "      <th>loc_admin2</th>\n",
       "      <th>loc_cc</th>\n",
       "    </tr>\n",
       "  </thead>\n",
       "  <tbody>\n",
       "    <tr>\n",
       "      <th>0</th>\n",
       "      <td>1974-12-16 02:30:21.400</td>\n",
       "      <td>35.330</td>\n",
       "      <td>-97.480</td>\n",
       "      <td>10.0</td>\n",
       "      <td>2.6</td>\n",
       "      <td>ml</td>\n",
       "      <td>NaN</td>\n",
       "      <td>NaN</td>\n",
       "      <td>NaN</td>\n",
       "      <td>NaN</td>\n",
       "      <td>...</td>\n",
       "      <td>NaN</td>\n",
       "      <td>NaN</td>\n",
       "      <td>NaN</td>\n",
       "      <td>reviewed</td>\n",
       "      <td>m</td>\n",
       "      <td>tul</td>\n",
       "      <td>Moore</td>\n",
       "      <td>Oklahoma</td>\n",
       "      <td>Cleveland County</td>\n",
       "      <td>US</td>\n",
       "    </tr>\n",
       "    <tr>\n",
       "      <th>1</th>\n",
       "      <td>1975-09-13 01:25:02.800</td>\n",
       "      <td>34.139</td>\n",
       "      <td>-97.369</td>\n",
       "      <td>5.0</td>\n",
       "      <td>3.4</td>\n",
       "      <td>lg</td>\n",
       "      <td>NaN</td>\n",
       "      <td>NaN</td>\n",
       "      <td>NaN</td>\n",
       "      <td>NaN</td>\n",
       "      <td>...</td>\n",
       "      <td>NaN</td>\n",
       "      <td>NaN</td>\n",
       "      <td>NaN</td>\n",
       "      <td>reviewed</td>\n",
       "      <td>us</td>\n",
       "      <td>tul</td>\n",
       "      <td>Wilson</td>\n",
       "      <td>Oklahoma</td>\n",
       "      <td>Carter County</td>\n",
       "      <td>US</td>\n",
       "    </tr>\n",
       "    <tr>\n",
       "      <th>2</th>\n",
       "      <td>1975-10-12 02:58:11.200</td>\n",
       "      <td>34.816</td>\n",
       "      <td>-97.406</td>\n",
       "      <td>20.0</td>\n",
       "      <td>3.2</td>\n",
       "      <td>lg</td>\n",
       "      <td>NaN</td>\n",
       "      <td>NaN</td>\n",
       "      <td>NaN</td>\n",
       "      <td>NaN</td>\n",
       "      <td>...</td>\n",
       "      <td>NaN</td>\n",
       "      <td>NaN</td>\n",
       "      <td>NaN</td>\n",
       "      <td>reviewed</td>\n",
       "      <td>us</td>\n",
       "      <td>tul</td>\n",
       "      <td>Maysville</td>\n",
       "      <td>Oklahoma</td>\n",
       "      <td>Garvin County</td>\n",
       "      <td>US</td>\n",
       "    </tr>\n",
       "    <tr>\n",
       "      <th>3</th>\n",
       "      <td>1975-11-29 14:29:40.900</td>\n",
       "      <td>34.521</td>\n",
       "      <td>-97.347</td>\n",
       "      <td>5.0</td>\n",
       "      <td>3.5</td>\n",
       "      <td>lg</td>\n",
       "      <td>NaN</td>\n",
       "      <td>NaN</td>\n",
       "      <td>NaN</td>\n",
       "      <td>NaN</td>\n",
       "      <td>...</td>\n",
       "      <td>NaN</td>\n",
       "      <td>NaN</td>\n",
       "      <td>NaN</td>\n",
       "      <td>reviewed</td>\n",
       "      <td>us</td>\n",
       "      <td>slm</td>\n",
       "      <td>Wynnewood</td>\n",
       "      <td>Oklahoma</td>\n",
       "      <td>Garvin County</td>\n",
       "      <td>US</td>\n",
       "    </tr>\n",
       "    <tr>\n",
       "      <th>4</th>\n",
       "      <td>1976-04-16 18:59:44.200</td>\n",
       "      <td>36.107</td>\n",
       "      <td>-99.875</td>\n",
       "      <td>5.0</td>\n",
       "      <td>3.4</td>\n",
       "      <td>NaN</td>\n",
       "      <td>NaN</td>\n",
       "      <td>NaN</td>\n",
       "      <td>NaN</td>\n",
       "      <td>NaN</td>\n",
       "      <td>...</td>\n",
       "      <td>NaN</td>\n",
       "      <td>NaN</td>\n",
       "      <td>NaN</td>\n",
       "      <td>reviewed</td>\n",
       "      <td>us</td>\n",
       "      <td>tul</td>\n",
       "      <td>Arnett</td>\n",
       "      <td>Oklahoma</td>\n",
       "      <td>Ellis County</td>\n",
       "      <td>US</td>\n",
       "    </tr>\n",
       "  </tbody>\n",
       "</table>\n",
       "<p>5 rows × 26 columns</p>\n",
       "</div>"
      ],
      "text/plain": [
       "                      time  latitude  longitude  depth  mag magType  nst  gap  \\\n",
       "0  1974-12-16 02:30:21.400    35.330    -97.480   10.0  2.6      ml  NaN  NaN   \n",
       "1  1975-09-13 01:25:02.800    34.139    -97.369    5.0  3.4      lg  NaN  NaN   \n",
       "2  1975-10-12 02:58:11.200    34.816    -97.406   20.0  3.2      lg  NaN  NaN   \n",
       "3  1975-11-29 14:29:40.900    34.521    -97.347    5.0  3.5      lg  NaN  NaN   \n",
       "4  1976-04-16 18:59:44.200    36.107    -99.875    5.0  3.4     NaN  NaN  NaN   \n",
       "\n",
       "   dmin  rms  ...   depthError magError magNst    status locationSource  \\\n",
       "0   NaN  NaN  ...          NaN      NaN    NaN  reviewed              m   \n",
       "1   NaN  NaN  ...          NaN      NaN    NaN  reviewed             us   \n",
       "2   NaN  NaN  ...          NaN      NaN    NaN  reviewed             us   \n",
       "3   NaN  NaN  ...          NaN      NaN    NaN  reviewed             us   \n",
       "4   NaN  NaN  ...          NaN      NaN    NaN  reviewed             us   \n",
       "\n",
       "   magSource   loc_name  loc_admin1        loc_admin2 loc_cc  \n",
       "0        tul      Moore    Oklahoma  Cleveland County     US  \n",
       "1        tul     Wilson    Oklahoma     Carter County     US  \n",
       "2        tul  Maysville    Oklahoma     Garvin County     US  \n",
       "3        slm  Wynnewood    Oklahoma     Garvin County     US  \n",
       "4        tul     Arnett    Oklahoma      Ellis County     US  \n",
       "\n",
       "[5 rows x 26 columns]"
      ]
     },
     "execution_count": 22,
     "metadata": {},
     "output_type": "execute_result"
    }
   ],
   "source": [
    "oklahoma.head()"
   ]
  },
  {
   "cell_type": "markdown",
   "metadata": {},
   "source": [
    "**Parkfield earthquake magnitudes**\n",
    "\n",
    "We will start with EDA and plot the ECDF of the magnitudes of earthquakes detected in the Parkfield region from 1950 to 2016"
   ]
  },
  {
   "cell_type": "code",
   "execution_count": 9,
   "metadata": {},
   "outputs": [
    {
     "data": {
      "image/png": "[encoded data removed]",
      "text/plain": [
       "<Figure size 432x288 with 1 Axes>"
      ]
     },
     "metadata": {},
     "output_type": "display_data"
    }
   ],
   "source": [
    "# Make the plot\n",
    "_ = plt.plot(*dcst.ecdf(mags),marker='.',linestyle='none')\n",
    "\n",
    "# Label axes and show plot\n",
    "_ = plt.xlabel('magnitude')\n",
    "_ = plt.ylabel('ECDF')\n",
    "plt.show()"
   ]
  },
  {
   "cell_type": "markdown",
   "metadata": {},
   "source": [
    "Note the distinctive roll-off at magnitudes below 1.0.\n",
    "This is because the value below 1 are hard to detect."
   ]
  },
  {
   "cell_type": "markdown",
   "metadata": {},
   "source": [
    "**Computing the b-value**\n",
    "\n",
    "The b-value is a common metric for the seismicity of a region. We can imagine weu would like to calculate it often when working with earthquake data."
   ]
  },
  {
   "cell_type": "code",
   "execution_count": 10,
   "metadata": {},
   "outputs": [],
   "source": [
    "def b_value(mags,mt,perc=[2.5,97.5], n_reps=None):\n",
    "    \"\"\"Compute the b-value and optionally its confidence interval.\"\"\"\n",
    "    # Extract magnitudes above completeness threshold: m\n",
    "    m = mags[mags >= mt]\n",
    "\n",
    "    # Compute b-value: b\n",
    "    b = (np.mean(m)-mt)*np.log(10)\n",
    "\n",
    "    # Draw bootstrap replicates\n",
    "    if n_reps is None:\n",
    "        return b\n",
    "    else:\n",
    "        m_bs_reps = dcst.draw_bs_reps(m,np.mean,size=n_reps)\n",
    "\n",
    "        # Compute b-value from replicates: b_bs_reps\n",
    "        b_bs_reps = (m_bs_reps - mt) * np.log(10)\n",
    "\n",
    "        # Compute confidence interval: conf_int\n",
    "        conf_int = np.percentile(b_bs_reps,perc)\n",
    "    \n",
    "        return b, conf_int\n"
   ]
  },
  {
   "cell_type": "markdown",
   "metadata": {},
   "source": [
    "**The b-value for Parkfield**\n",
    "\n",
    "The ECDF is effective at exposing roll-off, as we could see below magnitude 1. Because there are plenty of earthquakes above magnitude 3, we can use mt = 3 as our completeness threshold. With this completeness threshold, let us compute the b-value for the Parkfield region from 1950 to 2016, along with the 95% confidence interval. "
   ]
  },
  {
   "cell_type": "code",
   "execution_count": 13,
   "metadata": {},
   "outputs": [
    {
     "data": {
      "image/png": "[encoded data removed]",
      "text/plain": [
       "<Figure size 432x288 with 1 Axes>"
      ]
     },
     "metadata": {},
     "output_type": "display_data"
    },
    {
     "name": "stdout",
     "output_type": "stream",
     "text": [
      "\n",
      "b-value: 1.08\n",
      "95% conf int: [0.94, 1.24]\n"
     ]
    }
   ],
   "source": [
    "# Compute b-value and 95% confidence interval\n",
    "mt =3 \n",
    "b, conf_int = b_value(mags,mt=3, perc=[2.5, 97.5], n_reps=10000)\n",
    "\n",
    "# Generate samples to for theoretical ECDF\n",
    "m_theor = np.random.exponential(b/np.log(10), size=100000) + 3\n",
    "\n",
    "# Plot the theoretical CDF\n",
    "_ = plt.plot(*dcst.ecdf(m_theor))\n",
    "\n",
    "# Plot the ECDF (slicing mags >= mt)\n",
    "_ = plt.plot(*dcst.ecdf(mags[mags >= mt]), marker='.', linestyle='none')\n",
    "\n",
    "# Pretty up and show the plot\n",
    "_ = plt.xlabel('magnitude')\n",
    "_ = plt.ylabel('ECDF')\n",
    "_ = plt.xlim(2.8, 6.2)\n",
    "plt.show()\n",
    "\n",
    "# Report the results\n",
    "print(\"\"\"\n",
    "b-value: {0:.2f}\n",
    "95% conf int: [{1:.2f}, {2:.2f}]\"\"\".format(b, *conf_int))\n"
   ]
  },
  {
   "cell_type": "markdown",
   "metadata": {},
   "source": [
    "Parkfield seems to follow the Gutenberg-Richter law very well. The b-value of about 1 is typical for regions along fault zones."
   ]
  },
  {
   "cell_type": "markdown",
   "metadata": {},
   "source": [
    "#### We will now look for timings of earthquakes \n",
    "\n",
    "**Models for earthquake timing**\n",
    "1. Exponential: Earthquake happen like Poisson Process\n",
    "2. Gaussian : Earthquake will happen with a well-defined period"
   ]
  },
  {
   "cell_type": "markdown",
   "metadata": {},
   "source": [
    "#### Interearthquake time estimates for Parkfield\n",
    "\n",
    "We first compute the best estimates for the parameters for the Exponential and Gaussian models for interearthquake times. We then plot the theoretical CDFs for the respective models along with the formal ECDF of the actual Parkfield interearthquake times."
   ]
  },
  {
   "cell_type": "code",
   "execution_count": 14,
   "metadata": {},
   "outputs": [],
   "source": [
    "time_gap = np.array([24.06570842, 20.07665982, 21.01848049, 12.24640657, 32.05475702,\n",
    "       38.2532512 ])"
   ]
  },
  {
   "cell_type": "code",
   "execution_count": 15,
   "metadata": {},
   "outputs": [
    {
     "data": {
      "image/png": "[encoded data removed]",
      "text/plain": [
       "<Figure size 432x288 with 1 Axes>"
      ]
     },
     "metadata": {},
     "output_type": "display_data"
    }
   ],
   "source": [
    "# Compute the mean time gap: mean_time_gap\n",
    "mean_time_gap = np.mean(time_gap)\n",
    "\n",
    "# Standard deviation of the time gap: std_time_gap\n",
    "std_time_gap = np.std(time_gap)\n",
    "\n",
    "# Generate theoretical Exponential distribution of timings: time_gap_exp\n",
    "time_gap_exp = np.random.exponential(mean_time_gap,size=10000)\n",
    "\n",
    "# Generate theoretical Normal distribution of timings: time_gap_norm\n",
    "time_gap_norm = np.random.normal(mean_time_gap,std_time_gap,size=10000)\n",
    "\n",
    "# Plot theoretical CDFs\n",
    "_ = plt.plot(*dcst.ecdf(time_gap_exp))\n",
    "_ = plt.plot(*dcst.ecdf(time_gap_norm))\n",
    "\n",
    "# Plot Parkfield ECDF\n",
    "_ = plt.plot(*dcst.ecdf(time_gap,formal=True,min_x=-10,max_x=50))\n",
    "\n",
    "# Add legend\n",
    "_ = plt.legend(('Exp.', 'Norm.'), loc='upper left')\n",
    "\n",
    "# Label axes, set limits and show plot\n",
    "_ = plt.xlabel('time gap (years)')\n",
    "_ = plt.ylabel('ECDF')\n",
    "_ = plt.xlim(-10, 50)\n",
    "plt.show()\n"
   ]
  },
  {
   "cell_type": "markdown",
   "metadata": {},
   "source": [
    "By eye, the Gaussian model seems to describe the observed data best. We will investigate the consequences of this in the next exercise, and see if we can reject the Exponential model."
   ]
  },
  {
   "cell_type": "markdown",
   "metadata": {},
   "source": [
    "**When will the next big Parkfield quake be?**\n",
    "\n",
    "The last big earthquake in the Parkfield region was on the evening of September 27, 2004 local time. Our task is to get an estimate as to when the next Parkfield quake will be, assuming the Exponential model and also the Gaussian model. In both cases, the best estimate is given by the mean time gap, which we just computed.Let us compute 95% confidence intervals on when the next earthquake will be "
   ]
  },
  {
   "cell_type": "code",
   "execution_count": 17,
   "metadata": {},
   "outputs": [
    {
     "name": "stdout",
     "output_type": "stream",
     "text": [
      "Exponential: [2019.43723351 2035.92883598 2110.32198787]\n",
      "     Normal: [2019.8092455  2030.47304052 2046.27500372]\n"
     ]
    }
   ],
   "source": [
    "today = 2018.8538974466471\n",
    "last_quake =2004.74\n",
    "# Draw samples from the Exponential distribution: exp_samples\n",
    "exp_samples = np.random.exponential(mean_time_gap,size=100000)\n",
    "\n",
    "# Draw samples from the Normal distribution: norm_samples\n",
    "norm_samples = np.random.normal(mean_time_gap,std_time_gap,size=100000)\n",
    "\n",
    "# No earthquake as of today, so only keep samples that are long enough\n",
    "exp_samples = exp_samples[exp_samples > today - last_quake]\n",
    "norm_samples = norm_samples[norm_samples > today - last_quake]\n",
    "\n",
    "# Compute the confidence intervals with medians\n",
    "conf_int_exp = np.percentile(exp_samples, [2.5, 50, 97.5]) + last_quake\n",
    "conf_int_norm = np.percentile(norm_samples, [2.5, 50, 97.5]) + last_quake\n",
    "\n",
    "# Print the results\n",
    "print('Exponential:', conf_int_exp)\n",
    "print('     Normal:', conf_int_norm)\n"
   ]
  },
  {
   "cell_type": "markdown",
   "metadata": {},
   "source": [
    " The models given decidedly different predictions. The Gaussian model says the next earthquake is almost sure to be in the next few decades, but the Exponential model says we may very well have to wait longer."
   ]
  },
  {
   "cell_type": "markdown",
   "metadata": {},
   "source": [
    "#### Hypothesis test on Nankai megathrust earthquakes\n",
    "\n",
    "**Hypothesis:** The time between Nankai trough earthquake is normally distributed with a mean and standard deviation as per the data\n",
    "\n",
    "**Test Statistic:** The Kolmogorov-Smirnov statistic\n",
    "\n",
    "**At least as extreme as:** >= Observed KS statistic.\n",
    "\n",
    "**Simulating the Null Hypothesis**\n",
    "Draw lot of samples out of theoritical distribution and store them\n",
    "- Draw n samples out of theoritical distributions\n",
    "- Compute KS statistic from the samples"
   ]
  },
  {
   "cell_type": "code",
   "execution_count": 19,
   "metadata": {},
   "outputs": [],
   "source": [
    "def ks_stat(data1, data2):\n",
    "    # Compute ECDF from data: x, y\n",
    "    x,y = dcst.ecdf(data1)\n",
    "    \n",
    "    # Compute corresponding values of the target CDF\n",
    "    cdf = dcst.ecdf_formal(x,data2)\n",
    "\n",
    "    # Compute distances between concave corners and CDF\n",
    "    D_top = y - cdf\n",
    "\n",
    "    # Compute distance between convex corners and CDF\n",
    "    D_bottom = cdf - y + 1/len(data1)\n",
    "    return np.max((D_top, D_bottom))\n",
    "\n",
    "def draw_ks_reps(n,f,args=(),size=10000,n_reps=10000):\n",
    "    # Generate samples from target distribution\n",
    "    x_f = f(*args,size=size)\n",
    "    \n",
    "    # Initialize K-S replicates\n",
    "    reps = np.empty(n_reps)\n",
    "    \n",
    "    # Draw replicates\n",
    "    for i in range(n_reps):\n",
    "        # Draw samples for comparison\n",
    "        x_samp = f(*args,size=n)\n",
    "        \n",
    "        # Compute K-S statistic\n",
    "        reps[i] = dcst.ks_stat(x_samp,x_f)\n",
    "\n",
    "    return reps"
   ]
  },
  {
   "cell_type": "markdown",
   "metadata": {},
   "source": [
    "**The K-S test for Exponentiality**\n",
    "\n",
    "Ttest the null hypothesis that the interearthquake times of the Parkfield sequence are Exponentially distributed. That is, earthquakes happen at random with no memory of when the last one was"
   ]
  },
  {
   "cell_type": "code",
   "execution_count": 20,
   "metadata": {},
   "outputs": [
    {
     "name": "stdout",
     "output_type": "stream",
     "text": [
      "p = 0.2424\n"
     ]
    }
   ],
   "source": [
    "# Draw target distribution: x_f\n",
    "x_f = np.random.exponential(mean_time_gap,size=10000)\n",
    "\n",
    "# Compute K-S stat: d\n",
    "d = dcst.ks_stat(time_gap,x_f)\n",
    "\n",
    "# Draw K-S replicates: reps\n",
    "reps = dcst.draw_ks_reps(len(time_gap), np.random.exponential, \n",
    "                         args=(mean_time_gap,), size=10000, n_reps=10000)\n",
    "\n",
    "# Compute and print p-value\n",
    "p_val = np.sum(reps >= d) / 10000\n",
    "print('p =', p_val)\n"
   ]
  },
  {
   "cell_type": "markdown",
   "metadata": {},
   "source": [
    "That's a p-value above 0.2. This means that the Parkfield sequence is not outside the realm of possibility if earthquakes there are a Poisson process. This does not mean that they are generated by a Poisson process, but that the observed sequence is not incongruous with that model. The upshot is that it is really hard to say when the next Parkfield quake will be."
   ]
  },
  {
   "cell_type": "code",
   "execution_count": null,
   "metadata": {},
   "outputs": [],
   "source": []
  },
  {
   "cell_type": "code",
   "execution_count": null,
   "metadata": {},
   "outputs": [],
   "source": []
  },
  {
   "cell_type": "markdown",
   "metadata": {},
   "source": [
    "## Earhquake frequencies in Oklahona\n",
    "\n",
    "DA: Plotting earthquakes over time\n",
    "Make a plot where the y-axis is the magnitude and the x-axis is the time of all earthquakes in Oklahoma between 1980 and the first half of 2017"
   ]
  },
  {
   "cell_type": "code",
   "execution_count": 96,
   "metadata": {},
   "outputs": [],
   "source": [
    "mags = oklahoma[(oklahoma.time.dt.year>=1980)&(oklahoma.time.dt.year<=2017)].mag.values\n",
    "oklahoma.time = pd.to_datetime(oklahoma.time)\n",
    "temp = oklahoma[(oklahoma.time.dt.year>=1980)&(oklahoma.time.dt.year<=2017)].time.dt.date\n",
    "temp = pd.to_datetime(temp)\n",
    "time = temp.dt.year + (temp.dt.month*30+temp.dt.day)/365"
   ]
  },
  {
   "cell_type": "code",
   "execution_count": 103,
   "metadata": {},
   "outputs": [
    {
     "data": {
      "image/png": "[encoded data removed]",
      "text/plain": [
       "<Figure size 864x576 with 1 Axes>"
      ]
     },
     "metadata": {},
     "output_type": "display_data"
    }
   ],
   "source": [
    "# Plot time vs. magnitude\n",
    "plt.figure(figsize=(12,8))\n",
    "_ = plt.plot(time,mags,marker='.',linestyle='none',alpha=0.1)\n",
    "\n",
    "# Label axes and show the plot\n",
    "_ = plt.xlabel('time (year)')\n",
    "_ = plt.ylabel('magnitude')\n",
    "plt.show()\n"
   ]
  },
  {
   "cell_type": "markdown",
   "metadata": {},
   "source": [
    "**Estimates of the mean interearthquake times**\n",
    "\n",
    "\n",
    "The graphical EDA in the last exercise shows an obvious change in earthquake frequency around 2010. To compare, compute the mean time between earthquakes of magnitude 3 and larger from 1980 through 2009 and also from 2010 through mid-2017. Also include 95% confidence intervals of the mean"
   ]
  },
  {
   "cell_type": "code",
   "execution_count": 117,
   "metadata": {},
   "outputs": [
    {
     "name": "stdout",
     "output_type": "stream",
     "text": [
      "1980 through 2009\n",
      "mean time gap: 204.61 days\n",
      "95% conf int: [139.94, 277.90] days\n",
      "\n",
      "2010 through mid-2017\n",
      "mean time gap: 1.12 days\n",
      "95% conf int: [0.97, 1.29] days\n"
     ]
    }
   ],
   "source": [
    "# Compute mean interearthquake time\n",
    "mean_dt_pre = np.mean(dt_pre)\n",
    "mean_dt_post = np.mean(dt_post)\n",
    "# Draw 10,000 bootstrap replicates of the mean\n",
    "bs_reps_pre = dcst.draw_bs_reps(dt_pre,np.mean,size=10000)\n",
    "bs_reps_post = dcst.draw_bs_reps(dt_post,np.mean,size=10000)\n",
    "\n",
    "# Compute the confidence interval\n",
    "conf_int_pre = np.percentile(bs_reps_pre,[2.5,97.5])\n",
    "conf_int_post = np.percentile(bs_reps_post,[2.5,97.5])\n",
    "\n",
    "# Print the results\n",
    "print(\"\"\"1980 through 2009\n",
    "mean time gap: {0:.2f} days\n",
    "95% conf int: [{1:.2f}, {2:.2f}] days\"\"\".format(mean_dt_pre, *conf_int_pre))\n",
    "\n",
    "print(\"\"\"\n",
    "2010 through mid-2017\n",
    "mean time gap: {0:.2f} days\n",
    "95% conf int: [{1:.2f}, {2:.2f}] days\"\"\".format(mean_dt_post, *conf_int_post))\n"
   ]
  },
  {
   "cell_type": "markdown",
   "metadata": {},
   "source": [
    "Holy cow! There is almost a 200-fold increase in earthquake frequency after 2010."
   ]
  },
  {
   "cell_type": "markdown",
   "metadata": {},
   "source": [
    "**Hypothesis test: did earthquake frequency change?**\n",
    "\n",
    "Obviously, there was a massive increase in earthquake frequency once wastewater injection began. Nonetheless, we will still do a hypothesis test for practice. We will not test the hypothesis that the interearthquake times have the same distribution before and after 2010, since wastewater injection may affect the distribution. Instead, we will assume that they have the same mean. So, compute the p-value associated with the hypothesis that the pre- and post-2010 interearthquake times have the same mean, using the mean of pre-2010 time gaps minus the mean of post-2010 time gaps as your test statistic."
   ]
  },
  {
   "cell_type": "code",
   "execution_count": 118,
   "metadata": {},
   "outputs": [
    {
     "name": "stdout",
     "output_type": "stream",
     "text": [
      "p = 0.0\n"
     ]
    }
   ],
   "source": [
    "# Compute the observed test statistic\n",
    "mean_dt_diff = mean_dt_pre - mean_dt_post\n",
    "\n",
    "# Shift the post-2010 data to have the same mean as the pre-2010 data\n",
    "dt_post_shift = dt_post - np.mean(dt_post) + mean_dt_pre\n",
    "\n",
    "# Compute 10,000 bootstrap replicates from arrays\n",
    "bs_reps_pre = dcst.draw_bs_reps(dt_pre,np.mean,10000)\n",
    "bs_reps_post = dcst.draw_bs_reps(dt_post_shift,np.mean,10000)\n",
    "\n",
    "# Get replicates of difference of means\n",
    "bs_reps = bs_reps_pre - bs_reps_post\n",
    "\n",
    "# Compute and print the p-value\n",
    "p_val = np.sum(bs_reps >= mean_dt_diff) / 10000\n",
    "print('p =', p_val)\n"
   ]
  },
  {
   "cell_type": "markdown",
   "metadata": {},
   "source": [
    "icely done! In 10,000 samples, not one had a test statistic greater than was was observed. The p-value is, predictably based on what we have done so far, is tiiiiiny!"
   ]
  },
  {
   "cell_type": "markdown",
   "metadata": {},
   "source": [
    "#### Magnitude in Oklahoma\n",
    "\n",
    "- The Gutenberg-Ritcher Law\n",
    "- Compute b-values\n",
    "- Perform Hypothesis Test"
   ]
  },
  {
   "cell_type": "markdown",
   "metadata": {},
   "source": [
    "**EDA: Comparing magnitudes before and after 2010**\n",
    "\n",
    "Make an ECDF of earthquake magnitudes from 1980 through 2009. On the same plot, show an ECDF of magnitudes of earthquakes from 2010 through mid-2017. "
   ]
  },
  {
   "cell_type": "code",
   "execution_count": 120,
   "metadata": {},
   "outputs": [
    {
     "data": {
      "image/png": "[encoded data removed]",
      "text/plain": [
       "<Figure size 432x288 with 1 Axes>"
      ]
     },
     "metadata": {},
     "output_type": "display_data"
    }
   ],
   "source": [
    "# Get magnitudes before and after 2010\n",
    "mags_pre = mags[time< 2010]\n",
    "mags_post = mags[time >= 2010]\n",
    "\n",
    "# Generate ECDFs\n",
    "_ = plt.plot(*dcst.ecdf(mags_pre),marker='.',linestyle='none')\n",
    "_ = plt.plot(*dcst.ecdf(mags_post),marker='.',linestyle='none')\n",
    "# Label axes and show plot\n",
    "_ = plt.xlabel('magnitude')\n",
    "_ = plt.ylabel('ECDF')\n",
    "plt.legend(('1980 though 2009', '2010 through mid-2017'), loc='upper left')\n",
    "plt.show()\n"
   ]
  },
  {
   "cell_type": "markdown",
   "metadata": {},
   "source": [
    "Both curves seem to follow the Gutenberg-Richter Law, but with different completeness thresholds, probably due to improvements in sensing capabilities in more recent years."
   ]
  },
  {
   "cell_type": "markdown",
   "metadata": {},
   "source": [
    "**Quantification of the b-values**"
   ]
  },
  {
   "cell_type": "code",
   "execution_count": 121,
   "metadata": {},
   "outputs": [
    {
     "name": "stdout",
     "output_type": "stream",
     "text": [
      "\n",
      "1980 through 2009\n",
      "b-value: 0.74\n",
      "95% conf int: [0.53, 0.98]\n",
      "\n",
      "2010 through mid-2017\n",
      "b-value: 0.63\n",
      "95% conf int: [0.60, 0.65]\n",
      "\n"
     ]
    }
   ],
   "source": [
    "# Compute b-value and confidence interval for pre-2010\n",
    "b_pre, conf_int_pre = b_value(mags_pre, mt, perc=[2.5, 97.5],n_reps=10000)\n",
    "\n",
    "# Compute b-value and confidence interval for post-2010\n",
    "b_post, conf_int_post = b_value(mags_post, mt, perc=[2.5, 97.5],n_reps=10000)\n",
    "\n",
    "# Report the results\n",
    "print(\"\"\"\n",
    "1980 through 2009\n",
    "b-value: {0:.2f}\n",
    "95% conf int: [{1:.2f}, {2:.2f}]\n",
    "\n",
    "2010 through mid-2017\n",
    "b-value: {3:.2f}\n",
    "95% conf int: [{4:.2f}, {5:.2f}]\n",
    "\"\"\".format(b_pre, *conf_int_pre, b_post, *conf_int_post))\n"
   ]
  },
  {
   "cell_type": "markdown",
   "metadata": {},
   "source": [
    "The confidence interval for the b-value for recent earthquakes is tighter than for earlier ones because there are many more recent ones. Still, the confidence intervals overlap, and we can perform a hypothesis test to see if we might get these results if the b-values are actually the same."
   ]
  },
  {
   "cell_type": "markdown",
   "metadata": {},
   "source": [
    "**How should we do a hypothesis test on differences of the b-value?**\n",
    "\n",
    "- You should only include earthquakes that have magnitudes above the completeness threshold. A value of 3 is reasonable.\n",
    "- We should perform a permutation test because asserting a null hypothesis that the b-values are the same implicitly assumes that the magnitudes are identically distributed, specifically Exponentially, by the Gutenberg-Richter Law.\n",
    "- A reasonable test statistic is the difference between the mean post-2010 magnitude and the mean pre-2010 magnitude.\n",
    "- You do not need to worry about the fact that there were far fewer earthquakes before 2010 than there were after. That is to say, there are fewer earthquakes before 2010, but sufficiently many to do a permutation test.\n",
    "- You do not need to worry about the fact that the two time intervals are of different length.\n",
    "\n",
    "\n",
    "![title](images/2.jpg)"
   ]
  },
  {
   "cell_type": "markdown",
   "metadata": {},
   "source": [
    "Hypothesis test: are the b-values different?"
   ]
  },
  {
   "cell_type": "code",
   "execution_count": 122,
   "metadata": {},
   "outputs": [
    {
     "name": "stdout",
     "output_type": "stream",
     "text": [
      "p = 0.1092\n"
     ]
    }
   ],
   "source": [
    "# Only magnitudes above completeness threshold\n",
    "mags_pre = mags_pre[mags_pre >= mt]\n",
    "mags_post = mags_post[mags_post >= mt]\n",
    "\n",
    "# Observed difference in mean magnitudes: diff_obs\n",
    "diff_obs = np.mean(mags_post) - np.mean(mags_pre)\n",
    "\n",
    "# Generate permutation replicates: perm_reps\n",
    "perm_reps = dcst.draw_perm_reps(mags_post,mags_pre,dcst.diff_of_means,size=10000)\n",
    "\n",
    "# Compute and print p-value\n",
    "p_val = np.sum(perm_reps < diff_obs) / 10000\n",
    "print('p =', p_val)"
   ]
  },
  {
   "cell_type": "markdown",
   "metadata": {},
   "source": [
    "A p-value around 0.1 suggests that the observed magnitudes are commensurate with there being no change in b-value after wastewater injection began."
   ]
  },
  {
   "cell_type": "markdown",
   "metadata": {},
   "source": [
    "**Parkfield 1950 through 2009**\n",
    "- b-value: 1.08\n",
    "- 95% conf int: [0.94, 1.23]\n",
    "\n",
    "\n",
    "**Oklahoma 1980 through 2009**\n",
    "- b-value: 0.74\n",
    "- 95% conf int: [0.54, 0.97]\n",
    "\n",
    "- mean time gap: 204.61 days\n",
    "- 95% conf int: [138.45, 276.83] days\n",
    "\n",
    "\n",
    "**Oklahoma 2010 through mid-2017**\n",
    "- b-value: 0.62\n",
    "- 95% conf int: [0.60, 0.65]\n",
    "\n",
    "- mean time gap: 1.12 days\n",
    "- 95% conf int: [0.97, 1.30] days\n",
    "\n",
    "\n",
    "**Oklahoma: p-value for difference in b-value : 0.10**\n"
   ]
  },
  {
   "cell_type": "markdown",
   "metadata": {},
   "source": [
    "**Conclusion :**Oklahoma has a smaller b-value than the Parkfield region, so the Parkfield region has more earthquakes."
   ]
  },
  {
   "cell_type": "code",
   "execution_count": null,
   "metadata": {},
   "outputs": [],
   "source": []
  }
 ],
 "metadata": {
  "kernelspec": {
   "display_name": "Python 3",
   "language": "python",
   "name": "python3"
  },
  "language_info": {
   "codemirror_mode": {
    "name": "ipython",
    "version": 3
   },
   "file_extension": ".py",
   "mimetype": "text/x-python",
   "name": "python",
   "nbconvert_exporter": "python",
   "pygments_lexer": "ipython3",
   "version": "3.6.5"
  }
 },
 "nbformat": 4,
 "nbformat_minor": 2
}
